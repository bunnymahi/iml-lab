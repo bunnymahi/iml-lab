{
 "cells": [
  {
   "cell_type": "code",
   "execution_count": 17,
   "id": "ca62c25b-f122-40d8-b04a-c2a25c161f80",
   "metadata": {},
   "outputs": [
    {
     "name": "stdout",
     "output_type": "stream",
     "text": [
      "Mean Values in the Distribution\n",
      "Age       31.833333\n",
      "Rating     3.743333\n",
      "dtype: float64\n",
      "**********************************\n",
      "Median Values in the Distribution\n",
      "Age       29.50\n",
      "Rating     3.79\n",
      "dtype: float64\n"
     ]
    }
   ],
   "source": [
    "import pandas as pd\n",
    "d={'Age':pd.Series([25,26,25,23,30,29,23,34,40,30,51,46]),\n",
    "'Rating':pd.Series([4.23,3.24,3.98,2.56,3.20,4.6,3.8,3.78,2.98,4.80,4.10,3.65])\n",
    "}\n",
    "df=pd.DataFrame(d)\n",
    "print(\"Mean Values in the Distribution\")\n",
    "df=pd.DataFrame(d)\n",
    "# print(\"Mean Values in the Distribution\")\n",
    "print(df.mean(axis=0))\n",
    "print(\"**********************************\")\n",
    "print(\"Median Values in the Distribution\")\n",
    "print(df.median(axis=0))\n",
    "\n"
   ]
  },
  {
   "cell_type": "code",
   "execution_count": 16,
   "id": "882667ae-85a6-4501-8e75-58e4dbc8bcbc",
   "metadata": {},
   "outputs": [
    {
     "name": "stdout",
     "output_type": "stream",
     "text": [
      "mode Values in the Distribution\n",
      "ModeResult(mode=array([23], dtype=int64), count=array([3], dtype=int64))\n"
     ]
    }
   ],
   "source": [
    "import pandas as pd\n",
    "from scipy import stats\n",
    "d={'Age':pd.Series([25,26,25,23,30,29,23,34,40,30,51,23])}\n",
    "df=pd.DataFrame(d)\n",
    "print(\"mode Values in the Distribution\")\n",
    "x=stats.mode(df)\n",
    "print(x)"
   ]
  },
  {
   "cell_type": "code",
   "execution_count": 4,
   "id": "71674e73-61f6-48f8-960f-f6312039d21d",
   "metadata": {},
   "outputs": [
    {
     "name": "stdout",
     "output_type": "stream",
     "text": [
      "Age       9.232682\n",
      "Rating    0.661628\n",
      "dtype: float64\n"
     ]
    }
   ],
   "source": [
    "import pandas as pd\n",
    "#Create a Dictionary of Series\n",
    "d={'Age':pd.Series([25,26,25,23,30,29,23,34,40,30,51,46]),\n",
    "'Rating':pd.Series([4.23,3.24,3.98,2.56,3.20,4.6,3.8,3.78,2.98,4.80,4.10,3.65])}\n",
    "#Create a DataFrame\n",
    "df=pd.DataFrame(d)\n",
    "#Calculate the standard deviation\n",
    "print(df.std())"
   ]
  },
  {
   "cell_type": "code",
   "execution_count": 38,
   "id": "ad3009f5-7093-416d-abd4-1165a5f464a7",
   "metadata": {},
   "outputs": [
    {
     "data": {
      "text/html": [
       "<div>\n",
       "<style scoped>\n",
       "    .dataframe tbody tr th:only-of-type {\n",
       "        vertical-align: middle;\n",
       "    }\n",
       "\n",
       "    .dataframe tbody tr th {\n",
       "        vertical-align: top;\n",
       "    }\n",
       "\n",
       "    .dataframe thead th {\n",
       "        text-align: right;\n",
       "    }\n",
       "</style>\n",
       "<table border=\"1\" class=\"dataframe\">\n",
       "  <thead>\n",
       "    <tr style=\"text-align: right;\">\n",
       "      <th></th>\n",
       "      <th>John - Marks</th>\n",
       "      <th>Adam- Marks</th>\n",
       "      <th>David- Marks</th>\n",
       "      <th>Rahul - Marks</th>\n",
       "    </tr>\n",
       "  </thead>\n",
       "  <tbody>\n",
       "    <tr>\n",
       "      <th>0</th>\n",
       "      <td>98</td>\n",
       "      <td>88</td>\n",
       "      <td>90</td>\n",
       "      <td>88</td>\n",
       "    </tr>\n",
       "    <tr>\n",
       "      <th>1</th>\n",
       "      <td>87</td>\n",
       "      <td>52</td>\n",
       "      <td>92</td>\n",
       "      <td>85</td>\n",
       "    </tr>\n",
       "    <tr>\n",
       "      <th>2</th>\n",
       "      <td>76</td>\n",
       "      <td>69</td>\n",
       "      <td>71</td>\n",
       "      <td>79</td>\n",
       "    </tr>\n",
       "    <tr>\n",
       "      <th>3</th>\n",
       "      <td>88</td>\n",
       "      <td>79</td>\n",
       "      <td>60</td>\n",
       "      <td>81</td>\n",
       "    </tr>\n",
       "    <tr>\n",
       "      <th>4</th>\n",
       "      <td>96</td>\n",
       "      <td>80</td>\n",
       "      <td>64</td>\n",
       "      <td>91</td>\n",
       "    </tr>\n",
       "  </tbody>\n",
       "</table>\n",
       "</div>"
      ],
      "text/plain": [
       "   John - Marks   Adam- Marks   David- Marks   Rahul - Marks\n",
       "0             98            88             90             88\n",
       "1             87            52             92             85\n",
       "2             76            69             71             79\n",
       "3             88            79             60             81\n",
       "4             96            80             64             91"
      ]
     },
     "execution_count": 38,
     "metadata": {},
     "output_type": "execute_result"
    }
   ],
   "source": [
    "import pandas as pd\n",
    "#Create the dataframe of student's marks\n",
    "df=pd.DataFrame({\"John - Marks \":[98,87,76,88,96],\n",
    "\"Adam- Marks \":[88,52,69,79,80],\n",
    "\"David- Marks \":[90,92,71,60,64],\n",
    "\"Rahul - Marks\":[88,85,79,81,91]})\n",
    "#Printing the dataframe\n",
    "df"
   ]
  },
  {
   "cell_type": "code",
   "execution_count": 3,
   "id": "725b5dc1-0de1-41fd-98b4-865bc4eb2de1",
   "metadata": {},
   "outputs": [
    {
     "data": {
      "text/plain": [
       "Age       31.833333\n",
       "Rating     3.743333\n",
       "dtype: float64"
      ]
     },
     "execution_count": 3,
     "metadata": {},
     "output_type": "execute_result"
    }
   ],
   "source": [
    "#Calculating the Mean using the above dataset\n",
    "df.mean(axis=0)"
   ]
  },
  {
   "cell_type": "code",
   "execution_count": 18,
   "id": "09fdbe8c-7ba6-4554-bd3f-47ed6798ef2d",
   "metadata": {},
   "outputs": [
    {
     "data": {
      "text/html": [
       "<div>\n",
       "<style scoped>\n",
       "    .dataframe tbody tr th:only-of-type {\n",
       "        vertical-align: middle;\n",
       "    }\n",
       "\n",
       "    .dataframe tbody tr th {\n",
       "        vertical-align: top;\n",
       "    }\n",
       "\n",
       "    .dataframe thead th {\n",
       "        text-align: right;\n",
       "    }\n",
       "</style>\n",
       "<table border=\"1\" class=\"dataframe\">\n",
       "  <thead>\n",
       "    <tr style=\"text-align: right;\">\n",
       "      <th></th>\n",
       "      <th>Age</th>\n",
       "      <th>Rating</th>\n",
       "    </tr>\n",
       "  </thead>\n",
       "  <tbody>\n",
       "    <tr>\n",
       "      <th>0</th>\n",
       "      <td>23.0</td>\n",
       "      <td>2.56</td>\n",
       "    </tr>\n",
       "    <tr>\n",
       "      <th>1</th>\n",
       "      <td>25.0</td>\n",
       "      <td>2.98</td>\n",
       "    </tr>\n",
       "    <tr>\n",
       "      <th>2</th>\n",
       "      <td>30.0</td>\n",
       "      <td>3.20</td>\n",
       "    </tr>\n",
       "    <tr>\n",
       "      <th>3</th>\n",
       "      <td>NaN</td>\n",
       "      <td>3.24</td>\n",
       "    </tr>\n",
       "    <tr>\n",
       "      <th>4</th>\n",
       "      <td>NaN</td>\n",
       "      <td>3.65</td>\n",
       "    </tr>\n",
       "    <tr>\n",
       "      <th>5</th>\n",
       "      <td>NaN</td>\n",
       "      <td>3.78</td>\n",
       "    </tr>\n",
       "    <tr>\n",
       "      <th>6</th>\n",
       "      <td>NaN</td>\n",
       "      <td>3.80</td>\n",
       "    </tr>\n",
       "    <tr>\n",
       "      <th>7</th>\n",
       "      <td>NaN</td>\n",
       "      <td>3.98</td>\n",
       "    </tr>\n",
       "    <tr>\n",
       "      <th>8</th>\n",
       "      <td>NaN</td>\n",
       "      <td>4.10</td>\n",
       "    </tr>\n",
       "    <tr>\n",
       "      <th>9</th>\n",
       "      <td>NaN</td>\n",
       "      <td>4.23</td>\n",
       "    </tr>\n",
       "    <tr>\n",
       "      <th>10</th>\n",
       "      <td>NaN</td>\n",
       "      <td>4.60</td>\n",
       "    </tr>\n",
       "    <tr>\n",
       "      <th>11</th>\n",
       "      <td>NaN</td>\n",
       "      <td>4.80</td>\n",
       "    </tr>\n",
       "  </tbody>\n",
       "</table>\n",
       "</div>"
      ],
      "text/plain": [
       "     Age  Rating\n",
       "0   23.0    2.56\n",
       "1   25.0    2.98\n",
       "2   30.0    3.20\n",
       "3    NaN    3.24\n",
       "4    NaN    3.65\n",
       "5    NaN    3.78\n",
       "6    NaN    3.80\n",
       "7    NaN    3.98\n",
       "8    NaN    4.10\n",
       "9    NaN    4.23\n",
       "10   NaN    4.60\n",
       "11   NaN    4.80"
      ]
     },
     "execution_count": 18,
     "metadata": {},
     "output_type": "execute_result"
    }
   ],
   "source": [
    "df.mode()"
   ]
  },
  {
   "cell_type": "code",
   "execution_count": 4,
   "id": "9c07048c-d0fd-4c10-92cd-e78b84d47f5f",
   "metadata": {},
   "outputs": [
    {
     "name": "stdout",
     "output_type": "stream",
     "text": [
      "Interquartile Range:  37.5\n"
     ]
    }
   ],
   "source": [
    "#Interquartile Range of a single array\n",
    "import numpy as np\n",
    "#define data\n",
    "data=np.array([18,22,32,38,41,46,53,58,67,71,78,84,91,98])\n",
    "#find quarter-3 and quarter-1\n",
    "q3,q1=np.percentile(data,[75,25])\n",
    "#calculate the interquartile range\n",
    "iqr=q3-q1\n",
    "print(\"Interquartile Range: \",iqr)"
   ]
  },
  {
   "cell_type": "code",
   "execution_count": 19,
   "id": "9fe0c1fc-bf38-4f84-832a-dd162966672e",
   "metadata": {},
   "outputs": [
    {
     "data": {
      "text/html": [
       "<div>\n",
       "<style scoped>\n",
       "    .dataframe tbody tr th:only-of-type {\n",
       "        vertical-align: middle;\n",
       "    }\n",
       "\n",
       "    .dataframe tbody tr th {\n",
       "        vertical-align: top;\n",
       "    }\n",
       "\n",
       "    .dataframe thead th {\n",
       "        text-align: right;\n",
       "    }\n",
       "</style>\n",
       "<table border=\"1\" class=\"dataframe\">\n",
       "  <thead>\n",
       "    <tr style=\"text-align: right;\">\n",
       "      <th></th>\n",
       "      <th>Physics</th>\n",
       "      <th>Chemistry</th>\n",
       "      <th>Biology</th>\n",
       "      <th>Maths</th>\n",
       "    </tr>\n",
       "  </thead>\n",
       "  <tbody>\n",
       "    <tr>\n",
       "      <th>Student-1</th>\n",
       "      <td>32</td>\n",
       "      <td>24</td>\n",
       "      <td>30</td>\n",
       "      <td>40</td>\n",
       "    </tr>\n",
       "    <tr>\n",
       "      <th>Stedent-2</th>\n",
       "      <td>17</td>\n",
       "      <td>24</td>\n",
       "      <td>21</td>\n",
       "      <td>28</td>\n",
       "    </tr>\n",
       "    <tr>\n",
       "      <th>Student-3</th>\n",
       "      <td>50</td>\n",
       "      <td>25</td>\n",
       "      <td>28</td>\n",
       "      <td>32</td>\n",
       "    </tr>\n",
       "    <tr>\n",
       "      <th>Student-4</th>\n",
       "      <td>25</td>\n",
       "      <td>34</td>\n",
       "      <td>21</td>\n",
       "      <td>48</td>\n",
       "    </tr>\n",
       "    <tr>\n",
       "      <th>Student-5</th>\n",
       "      <td>17</td>\n",
       "      <td>31</td>\n",
       "      <td>18</td>\n",
       "      <td>28</td>\n",
       "    </tr>\n",
       "    <tr>\n",
       "      <th>Student-6</th>\n",
       "      <td>35</td>\n",
       "      <td>24</td>\n",
       "      <td>19</td>\n",
       "      <td>42</td>\n",
       "    </tr>\n",
       "  </tbody>\n",
       "</table>\n",
       "</div>"
      ],
      "text/plain": [
       "           Physics  Chemistry  Biology  Maths\n",
       "Student-1       32         24       30     40\n",
       "Stedent-2       17         24       21     28\n",
       "Student-3       50         25       28     32\n",
       "Student-4       25         34       21     48\n",
       "Student-5       17         31       18     28\n",
       "Student-6       35         24       19     42"
      ]
     },
     "metadata": {},
     "output_type": "display_data"
    },
    {
     "name": "stdout",
     "output_type": "stream",
     "text": [
      "Quartile-1 is 24.0\n",
      "Quartile-3 is 29.5\n",
      "Interquartile Range:  5.5\n"
     ]
    }
   ],
   "source": [
    "#Interquartile Range of a single column in a DataFrame\n",
    "import numpy as np\n",
    "import pandas as pd\n",
    "df=pd.DataFrame([[32,24,30,40],[17,24,21,28],[50,25,28,32],[25,34,21,48],[17,31,18,28],[35,24,19,42,]],\n",
    "columns=['Physics','Chemistry','Biology','Maths'],\n",
    "index=['Student-1','Stedent-2','Student-3','Student-4','Student-5','Student-6'])\n",
    "display(df)\n",
    "#find quarter-3 and quarter-1\n",
    "q3,q1=np.percentile(df['Chemistry'],[75,25])\n",
    "print(\"Quartile-1 is\", q1)\n",
    "print(\"Quartile-3 is\", q3)\n",
    "#calculate the interquartile range\n",
    "iqr=q3-q1\n",
    "print(\"Interquartile Range: \",iqr)"
   ]
  },
  {
   "cell_type": "code",
   "execution_count": 23,
   "id": "ce38bc5b-ca30-496f-be11-e0b1a6bc4bbb",
   "metadata": {},
   "outputs": [
    {
     "data": {
      "text/plain": [
       "Physics      15.25\n",
       "Chemistry     5.50\n",
       "dtype: float64"
      ]
     },
     "execution_count": 23,
     "metadata": {},
     "output_type": "execute_result"
    }
   ],
   "source": [
    "#define function to calculate interquartile range of a single column\n",
    "def single_iqr(x):\n",
    "    return np.subtract(*np.percentile(x,[75,25]))\n",
    "#calculate IQR for 'Physics' and 'Chemistry' columns\n",
    "df[['Physics','Chemistry']].apply(single_iqr)\n"
   ]
  },
  {
   "cell_type": "code",
   "execution_count": 7,
   "id": "419ffe9a-e35a-4588-8187-564864c8b449",
   "metadata": {},
   "outputs": [
    {
     "data": {
      "text/plain": [
       "Physics      15.25\n",
       "Chemistry     5.50\n",
       "Biology       6.75\n",
       "Maths        12.50\n",
       "dtype: float64"
      ]
     },
     "execution_count": 7,
     "metadata": {},
     "output_type": "execute_result"
    }
   ],
   "source": [
    "#claculate IQR for all columns\n",
    "df.apply(single_iqr)"
   ]
  },
  {
   "cell_type": "code",
   "execution_count": 25,
   "id": "d2a4fd08-2375-485f-bd6e-a9db5e6f6e98",
   "metadata": {},
   "outputs": [
    {
     "data": {
      "image/png": "[encoded data removed]",
      "text/plain": [
       "<Figure size 800x600 with 1 Axes>"
      ]
     },
     "metadata": {},
     "output_type": "display_data"
    }
   ],
   "source": [
    "import pandas as pd\n",
    "import numpy as np\n",
    "import matplotlib.pyplot as plt\n",
    "from matplotlib.cbook import boxplot_stats\n",
    "#plot the dataframe as needed\n",
    "ax=df.plot.box(figsize=(8,6),showmeans=True)\n",
    "ax.grid()"
   ]
  },
  {
   "cell_type": "code",
   "execution_count": 36,
   "id": "7fd7af2f-ca9f-4c55-84f4-062b45a37ac2",
   "metadata": {},
   "outputs": [
    {
     "name": "stdout",
     "output_type": "stream",
     "text": [
      " The Average of Dataset is: 8.0\n",
      " The middle value of Dataset is: 8.0\n",
      " Most frequently used value of Dataset is  8\n"
     ]
    }
   ],
   "source": [
    "import warnings\n",
    "warnings.filterwarnings('ignore')\n",
    "import numpy as np\n",
    "from scipy import stats\n",
    "Dataset1 = [1,2,2,3,3,3,4,4,4,4,5,5,5,5,5,6,6,6,6,6,6,7,7,7,7,7,7,7,8,8,8,8,8,8,8,8,9,9,9,9,9,9,9,10,10,10,10,10,10,11,11,11,11,11,12,12,12,12,13,13,13,14,14,15]\n",
    "x1=np.mean(Dataset1)\n",
    "print(\" The Average of Dataset is:\",x1)\n",
    "x2=np.median(Dataset1)\n",
    "print(\" The middle value of Dataset is:\",x2)\n",
    "x3 = stats.mode(Dataset1)\n",
    "print(\" Most frequently used value of Dataset is \",x3)\n"
   ]
  },
  {
   "cell_type": "code",
   "execution_count": 44,
   "id": "32a796ca-aa25-4d3e-bb94-607b5c05b13d",
   "metadata": {},
   "outputs": [
    {
     "data": {
      "image/png": "[encoded data removed]",
      "text/plain": [
       "<Figure size 500x200 with 1 Axes>"
      ]
     },
     "metadata": {},
     "output_type": "display_data"
    }
   ],
   "source": [
    "import numpy as np\n",
    "import matplotlib.pyplot as plt\n",
    "Dataset1 = [1,2,2,3,3,3,4,4,4,4,5,5,5,5,5,6,6,6,6,6,6,7,7,7,7,7,7,7,8,8,8,8,8,8,8,8,9,9,9,9,9,9,9,10,10,10,10,10,10,11,11,11,11,11,12,12,12,12,13,13,13,14,14,15]\n",
    "# y=Dataset1\n",
    "plt.figure(figsize=(5, 2))\n",
    "plt.hist(Dataset1,bins=50)\n",
    "plt.show()\n"
   ]
  },
  {
   "cell_type": "code",
   "execution_count": 1,
   "id": "6cbdbeb8-82eb-4e39-add5-a7bc9ff0b285",
   "metadata": {},
   "outputs": [
    {
     "name": "stdout",
     "output_type": "stream",
     "text": [
      " The Average of Dataset is: 7.196428571428571\n",
      " The middle value of Dataset is: 7.0\n",
      " Most frequently used value of Dataset is  [6]\n"
     ]
    },
    {
     "data": {
      "image/png": "[encoded data removed]",
      "text/plain": [
       "<Figure size 1000x400 with 1 Axes>"
      ]
     },
     "metadata": {},
     "output_type": "display_data"
    }
   ],
   "source": [
    "import warnings\n",
    "warnings.filterwarnings('ignore')\n",
    "import numpy as np\n",
    "import numpy as np\n",
    "import matplotlib.pyplot as plt\n",
    "from scipy import stats\n",
    "Dataset1 = [1,2,2,3,3,3,4,4,4,4,5,5,5,5,5,6,6,6,6,6,6,6,6,6,6,7,7,7,7,7,7,7,7,8,8,8,8,8,8,9,9,9,9,9,10,10,10,10,11,11,11,12,12,13,14,15]\n",
    "x1=np.mean(Dataset1)\n",
    "print(\" The Average of Dataset is:\",x1)\n",
    "x2=np.median(Dataset1)\n",
    "print(\" The middle value of Dataset is:\",x2)\n",
    "x3 = stats.mode(Dataset1)\n",
    "print(\" Most frequently used value of Dataset is \",x3[0])\n",
    "y=Dataset1\n",
    "plt.figure(figsize=(10, 4))\n",
    "\n",
    "plt1 = plt.hist(Dataset1,bins=84)\n",
    "plt.show()\n",
    "\n"
   ]
  },
  {
   "cell_type": "code",
   "execution_count": 47,
   "id": "47cf00c1-88f6-4328-ab1b-de664f257580",
   "metadata": {},
   "outputs": [
    {
     "name": "stdout",
     "output_type": "stream",
     "text": [
      " The Average of Dataset is: 6.659574468085107\n",
      " The middle value of Dataset is: 7.0\n",
      " Most frequently used value of Dataset is  ModeResult(mode=array([8]), count=array([8]))\n"
     ]
    },
    {
     "data": {
      "image/png": "[encoded data removed]",
      "text/plain": [
       "<Figure size 1000x400 with 1 Axes>"
      ]
     },
     "metadata": {},
     "output_type": "display_data"
    }
   ],
   "source": [
    "import warnings\n",
    "warnings.filterwarnings('ignore')\n",
    "import numpy as np\n",
    "from scipy import stats\n",
    "import numpy as np\n",
    "import matplotlib.pyplot as plt\n",
    "\n",
    "Dataset1 = [1,2,2,3,3,3,4,4,4,4,5,5,5,5,5,6,6,6,6,6,6,7,7,7,7,7,7,7,8,8,8,8,8,8,8,8,9,9,9,9,9,10,10,10,11,11,12]\n",
    "x1=np.mean(Dataset1)\n",
    "print(\" The Average of Dataset is:\",x1)\n",
    "x2=np.median(Dataset1)\n",
    "print(\" The middle value of Dataset is:\",x2)\n",
    "x3 = stats.mode(Dataset1)\n",
    "print(\" Most frequently used value of Dataset is \",x3)\n",
    "y=Dataset1\n",
    "plt.figure(figsize=(10, 4))\n",
    "plt1 = plt.hist(Dataset1,bins=64)\n",
    "plt.show()\n"
   ]
  },
  {
   "cell_type": "code",
   "execution_count": 24,
   "id": "35d27fd9-b0a4-4c0f-a1d6-e646c4c4a634",
   "metadata": {},
   "outputs": [
    {
     "name": "stdout",
     "output_type": "stream",
     "text": [
      "variance of list is 48.0\n",
      "range is: 23\n",
      "standard deviation is 6.928203230275509\n"
     ]
    }
   ],
   "source": [
    "import numpy as np\n",
    "from scipy import stats\n",
    "import numpy as np\n",
    "list = [2,4,4,4,5,5,7,25]\n",
    "x=list\n",
    "x1=np.var(list)\n",
    "print(\"variance of list is\",x1)\n",
    "range=np.max(x)-np.min(x)\n",
    "print(\"range is:\", range)\n",
    "sd=np.std(x)\n",
    "print(\"standard deviation is\",sd)"
   ]
  },
  {
   "cell_type": "code",
   "execution_count": null,
   "id": "b84a281f-5cce-427e-bca3-1faef6c7a70f",
   "metadata": {},
   "outputs": [],
   "source": []
  }
 ],
 "metadata": {
  "kernelspec": {
   "display_name": "Python 3 (ipykernel)",
   "language": "python",
   "name": "python3"
  },
  "language_info": {
   "codemirror_mode": {
    "name": "ipython",
    "version": 3
   },
   "file_extension": ".py",
   "mimetype": "text/x-python",
   "name": "python",
   "nbconvert_exporter": "python",
   "pygments_lexer": "ipython3",
   "version": "3.10.9"
  }
 },
 "nbformat": 4,
 "nbformat_minor": 5
}
