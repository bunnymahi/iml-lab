{
 "cells": [
  {
   "cell_type": "code",
   "execution_count": 1,
   "id": "d036a552-e9f5-4201-b46b-1604698b7ee8",
   "metadata": {},
   "outputs": [
    {
     "data": {
      "text/plain": [
       "'Experiment-4:- Plotting the regression line and predicting the output values without using SKlearn library'"
      ]
     },
     "execution_count": 1,
     "metadata": {},
     "output_type": "execute_result"
    }
   ],
   "source": [
    "'''Experiment-4:- Plotting the regression line and predicting the output values without using SKlearn library'''"
   ]
  },
  {
   "cell_type": "code",
   "execution_count": 2,
   "id": "b0137d43-6b4f-4d1a-84cf-d754615c262e",
   "metadata": {},
   "outputs": [],
   "source": [
    "'''Step-1:\n",
    "Import necessary libraries like pandas, numpy & matplotlib'''\n",
    "import pandas as pd\n",
    "import numpy as np\n",
    "import math\n",
    "import operator\n",
    "import matplotlib.pyplot as plt"
   ]
  },
  {
   "cell_type": "code",
   "execution_count": 3,
   "id": "3bad1a22-fae3-4a02-8325-cbe3a7e76a14",
   "metadata": {},
   "outputs": [
    {
     "name": "stdout",
     "output_type": "stream",
     "text": [
      "[ 5 15 25 35 45 55]\n",
      "[ 5 20 14 32 22 38]\n"
     ]
    }
   ],
   "source": [
    "'''Step-2:\n",
    "Create your dataset/upload'''\n",
    "x=np.array([5,15,25,35,45,55])\n",
    "y=np.array([5,20,14,32,22,38])\n",
    "print(x)\n",
    "print(y)"
   ]
  },
  {
   "cell_type": "code",
   "execution_count": 4,
   "id": "07eb3ea5-d6b5-4bb0-95fa-b2189f344269",
   "metadata": {},
   "outputs": [
    {
     "name": "stdout",
     "output_type": "stream",
     "text": [
      "[[ 5]\n",
      " [15]\n",
      " [25]\n",
      " [35]\n",
      " [45]\n",
      " [55]]\n",
      "[[ 5]\n",
      " [20]\n",
      " [14]\n",
      " [32]\n",
      " [22]\n",
      " [38]]\n"
     ]
    }
   ],
   "source": [
    "#Reshaping it to have only one column\n",
    "X=np.array([5,15,25,35,45,55]).reshape(-1,1)\n",
    "Y=np.array([5,20,14,32,22,38]).reshape(-1,1)\n",
    "print(X)\n",
    "print(Y)"
   ]
  },
  {
   "cell_type": "code",
   "execution_count": 6,
   "id": "f98d1df7-e679-4286-a272-457e488943b5",
   "metadata": {},
   "outputs": [
    {
     "name": "stdout",
     "output_type": "stream",
     "text": [
      "30.0\n",
      "21.833333333333332\n"
     ]
    }
   ],
   "source": [
    "#calculate mean of x & y using an inbuilt numpy method mean()\n",
    "mean_x=np.mean(X)\n",
    "mean_y=np.mean(Y)\n",
    "print(mean_x)\n",
    "print(mean_y)"
   ]
  },
  {
   "cell_type": "code",
   "execution_count": 8,
   "id": "abc5c782-20a2-4f1b-b2d3-c01b5df6479d",
   "metadata": {},
   "outputs": [
    {
     "name": "stdout",
     "output_type": "stream",
     "text": [
      "m=[0.54] \n",
      "c=[5.63333333]\n"
     ]
    }
   ],
   "source": [
    "'''Step-4:\n",
    "Calculate m & c using formulas'''\n",
    "#total no.of input values\n",
    "val_count=len(X)\n",
    "#using the formula to calculate m & c\n",
    "numer=0\n",
    "denom=0\n",
    "for i in range(val_count):\n",
    "    numer=numer+(X[i]-mean_x)*(Y[i]-mean_y)\n",
    "    denom=denom+(X[i]-mean_x)**2\n",
    "m=numer/denom\n",
    "c=mean_y-(m*mean_x)\n",
    "print(f'm={m} \\nc={c}')"
   ]
  },
  {
   "cell_type": "code",
   "execution_count": 9,
   "id": "a60cfc45-2732-4556-ae35-f9ab438d12b8",
   "metadata": {},
   "outputs": [
    {
     "data": {
      "image/png": "[encoded data removed]",
      "text/plain": [
       "<Figure size 640x480 with 1 Axes>"
      ]
     },
     "metadata": {},
     "output_type": "display_data"
    }
   ],
   "source": [
    "'''Step-5:\n",
    "Now that we've our m & c, let's plot the input points and the regression line.'''\n",
    "#plotting values and regression line\n",
    "max_x=np.max(X)+100\n",
    "min_x=np.min(Y)-100\n",
    "#calculating line values x and y\n",
    "x=np.linspace(min_x,max_x,100)\n",
    "y=c+m*x\n",
    "plt.plot(x,y,color='blue',label='Regression Line')\n",
    "plt.scatter(X,Y,color='red',label='Data points')\n",
    "plt.xlabel('x-axis')\n",
    "plt.ylabel('y-axis')\n",
    "plt.legend()\n",
    "plt.show()"
   ]
  },
  {
   "cell_type": "code",
   "execution_count": 11,
   "id": "b4501c83-57bf-4ed1-b9ed-476fd1dc9815",
   "metadata": {},
   "outputs": [
    {
     "name": "stdout",
     "output_type": "stream",
     "text": [
      "[0.71587561]\n"
     ]
    }
   ],
   "source": [
    "'''Step-6:\n",
    "Now it's time to measure how good our model is. For this, we will calculate the R-squared value\n",
    "and evaluate our lineat regression model.\n",
    "R-squared value is a statistical measure of how close the data are to the fitted regression line.\n",
    "It is also known as the coefficient of determination of coefficient of multiple determination.'''\n",
    "#calculating R-squared value for measuring goodness of our model.\n",
    "ss_t=0 #total sum of squares\n",
    "ss_r=0 #total sum of square of residuals\n",
    "for i in range(int(val_count)): #val_count represents the no.of input x values\n",
    "    y_pred=c+m*X[i]\n",
    "    ss_t=ss_t+(Y[i]-mean_y)**2\n",
    "    ss_r=ss_r+(Y[i]-y_pred)**2\n",
    "r2=1-(ss_r/ss_t)\n",
    "print(r2)"
   ]
  },
  {
   "cell_type": "code",
   "execution_count": null,
   "id": "c08c2e12-433a-41f4-be7a-2f0a1aa7defa",
   "metadata": {},
   "outputs": [],
   "source": []
  }
 ],
 "metadata": {
  "kernelspec": {
   "display_name": "Python 3 (ipykernel)",
   "language": "python",
   "name": "python3"
  },
  "language_info": {
   "codemirror_mode": {
    "name": "ipython",
    "version": 3
   },
   "file_extension": ".py",
   "mimetype": "text/x-python",
   "name": "python",
   "nbconvert_exporter": "python",
   "pygments_lexer": "ipython3",
   "version": "3.10.9"
  }
 },
 "nbformat": 4,
 "nbformat_minor": 5
}
