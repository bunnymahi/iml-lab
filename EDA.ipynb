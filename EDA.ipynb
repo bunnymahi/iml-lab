{
 "cells": [
  {
   "cell_type": "code",
   "execution_count": 3,
   "id": "af78b527-b7ee-4113-9794-407c97657b4f",
   "metadata": {},
   "outputs": [
    {
     "data": {
      "text/html": [
       "<div>\n",
       "<style scoped>\n",
       "    .dataframe tbody tr th:only-of-type {\n",
       "        vertical-align: middle;\n",
       "    }\n",
       "\n",
       "    .dataframe tbody tr th {\n",
       "        vertical-align: top;\n",
       "    }\n",
       "\n",
       "    .dataframe thead th {\n",
       "        text-align: right;\n",
       "    }\n",
       "</style>\n",
       "<table border=\"1\" class=\"dataframe\">\n",
       "  <thead>\n",
       "    <tr style=\"text-align: right;\">\n",
       "      <th></th>\n",
       "      <th>Unnamed: 0</th>\n",
       "      <th>Price</th>\n",
       "      <th>Age</th>\n",
       "      <th>KM</th>\n",
       "      <th>FuelType</th>\n",
       "      <th>HP</th>\n",
       "      <th>MetColor</th>\n",
       "      <th>Automatic</th>\n",
       "      <th>CC</th>\n",
       "      <th>Doors</th>\n",
       "      <th>Weight</th>\n",
       "    </tr>\n",
       "  </thead>\n",
       "  <tbody>\n",
       "    <tr>\n",
       "      <th>0</th>\n",
       "      <td>0</td>\n",
       "      <td>13500</td>\n",
       "      <td>23.0</td>\n",
       "      <td>46986</td>\n",
       "      <td>Diesel</td>\n",
       "      <td>90</td>\n",
       "      <td>1.0</td>\n",
       "      <td>0</td>\n",
       "      <td>2000</td>\n",
       "      <td>three</td>\n",
       "      <td>1165</td>\n",
       "    </tr>\n",
       "    <tr>\n",
       "      <th>1</th>\n",
       "      <td>1</td>\n",
       "      <td>13750</td>\n",
       "      <td>23.0</td>\n",
       "      <td>72937</td>\n",
       "      <td>Diesel</td>\n",
       "      <td>90</td>\n",
       "      <td>1.0</td>\n",
       "      <td>0</td>\n",
       "      <td>2000</td>\n",
       "      <td>3</td>\n",
       "      <td>1165</td>\n",
       "    </tr>\n",
       "    <tr>\n",
       "      <th>2</th>\n",
       "      <td>2</td>\n",
       "      <td>13950</td>\n",
       "      <td>24.0</td>\n",
       "      <td>41711</td>\n",
       "      <td>Diesel</td>\n",
       "      <td>90</td>\n",
       "      <td>NaN</td>\n",
       "      <td>0</td>\n",
       "      <td>2000</td>\n",
       "      <td>3</td>\n",
       "      <td>1165</td>\n",
       "    </tr>\n",
       "    <tr>\n",
       "      <th>3</th>\n",
       "      <td>3</td>\n",
       "      <td>14950</td>\n",
       "      <td>26.0</td>\n",
       "      <td>48000</td>\n",
       "      <td>Diesel</td>\n",
       "      <td>90</td>\n",
       "      <td>0.0</td>\n",
       "      <td>0</td>\n",
       "      <td>2000</td>\n",
       "      <td>3</td>\n",
       "      <td>1165</td>\n",
       "    </tr>\n",
       "    <tr>\n",
       "      <th>4</th>\n",
       "      <td>4</td>\n",
       "      <td>13750</td>\n",
       "      <td>30.0</td>\n",
       "      <td>38500</td>\n",
       "      <td>Diesel</td>\n",
       "      <td>90</td>\n",
       "      <td>0.0</td>\n",
       "      <td>0</td>\n",
       "      <td>2000</td>\n",
       "      <td>3</td>\n",
       "      <td>1170</td>\n",
       "    </tr>\n",
       "    <tr>\n",
       "      <th>...</th>\n",
       "      <td>...</td>\n",
       "      <td>...</td>\n",
       "      <td>...</td>\n",
       "      <td>...</td>\n",
       "      <td>...</td>\n",
       "      <td>...</td>\n",
       "      <td>...</td>\n",
       "      <td>...</td>\n",
       "      <td>...</td>\n",
       "      <td>...</td>\n",
       "      <td>...</td>\n",
       "    </tr>\n",
       "    <tr>\n",
       "      <th>1431</th>\n",
       "      <td>1431</td>\n",
       "      <td>7500</td>\n",
       "      <td>NaN</td>\n",
       "      <td>20544</td>\n",
       "      <td>Petrol</td>\n",
       "      <td>86</td>\n",
       "      <td>1.0</td>\n",
       "      <td>0</td>\n",
       "      <td>1300</td>\n",
       "      <td>3</td>\n",
       "      <td>1025</td>\n",
       "    </tr>\n",
       "    <tr>\n",
       "      <th>1432</th>\n",
       "      <td>1432</td>\n",
       "      <td>10845</td>\n",
       "      <td>72.0</td>\n",
       "      <td>??</td>\n",
       "      <td>Petrol</td>\n",
       "      <td>86</td>\n",
       "      <td>0.0</td>\n",
       "      <td>0</td>\n",
       "      <td>1300</td>\n",
       "      <td>3</td>\n",
       "      <td>1015</td>\n",
       "    </tr>\n",
       "    <tr>\n",
       "      <th>1433</th>\n",
       "      <td>1433</td>\n",
       "      <td>8500</td>\n",
       "      <td>NaN</td>\n",
       "      <td>17016</td>\n",
       "      <td>Petrol</td>\n",
       "      <td>86</td>\n",
       "      <td>0.0</td>\n",
       "      <td>0</td>\n",
       "      <td>1300</td>\n",
       "      <td>3</td>\n",
       "      <td>1015</td>\n",
       "    </tr>\n",
       "    <tr>\n",
       "      <th>1434</th>\n",
       "      <td>1434</td>\n",
       "      <td>7250</td>\n",
       "      <td>70.0</td>\n",
       "      <td>??</td>\n",
       "      <td>NaN</td>\n",
       "      <td>86</td>\n",
       "      <td>1.0</td>\n",
       "      <td>0</td>\n",
       "      <td>1300</td>\n",
       "      <td>3</td>\n",
       "      <td>1015</td>\n",
       "    </tr>\n",
       "    <tr>\n",
       "      <th>1435</th>\n",
       "      <td>1435</td>\n",
       "      <td>6950</td>\n",
       "      <td>76.0</td>\n",
       "      <td>1</td>\n",
       "      <td>Petrol</td>\n",
       "      <td>110</td>\n",
       "      <td>0.0</td>\n",
       "      <td>0</td>\n",
       "      <td>1600</td>\n",
       "      <td>5</td>\n",
       "      <td>1114</td>\n",
       "    </tr>\n",
       "  </tbody>\n",
       "</table>\n",
       "<p>1436 rows × 11 columns</p>\n",
       "</div>"
      ],
      "text/plain": [
       "      Unnamed: 0  Price   Age     KM FuelType   HP  MetColor  Automatic    CC  \\\n",
       "0              0  13500  23.0  46986   Diesel   90       1.0          0  2000   \n",
       "1              1  13750  23.0  72937   Diesel   90       1.0          0  2000   \n",
       "2              2  13950  24.0  41711   Diesel   90       NaN          0  2000   \n",
       "3              3  14950  26.0  48000   Diesel   90       0.0          0  2000   \n",
       "4              4  13750  30.0  38500   Diesel   90       0.0          0  2000   \n",
       "...          ...    ...   ...    ...      ...  ...       ...        ...   ...   \n",
       "1431        1431   7500   NaN  20544   Petrol   86       1.0          0  1300   \n",
       "1432        1432  10845  72.0     ??   Petrol   86       0.0          0  1300   \n",
       "1433        1433   8500   NaN  17016   Petrol   86       0.0          0  1300   \n",
       "1434        1434   7250  70.0     ??      NaN   86       1.0          0  1300   \n",
       "1435        1435   6950  76.0      1   Petrol  110       0.0          0  1600   \n",
       "\n",
       "      Doors  Weight  \n",
       "0     three    1165  \n",
       "1         3    1165  \n",
       "2         3    1165  \n",
       "3         3    1165  \n",
       "4         3    1170  \n",
       "...     ...     ...  \n",
       "1431      3    1025  \n",
       "1432      3    1015  \n",
       "1433      3    1015  \n",
       "1434      3    1015  \n",
       "1435      5    1114  \n",
       "\n",
       "[1436 rows x 11 columns]"
      ]
     },
     "execution_count": 3,
     "metadata": {},
     "output_type": "execute_result"
    }
   ],
   "source": [
    "import pandas as pd\n",
    "import numpy as np\n",
    "toyotadf=pd.read_csv('Documents/Toyota.csv')\n",
    "toyotadf"
   ]
  },
  {
   "cell_type": "code",
   "execution_count": 4,
   "id": "f9529100-5d97-42d3-9e6c-b0b97384b90d",
   "metadata": {},
   "outputs": [
    {
     "data": {
      "text/html": [
       "<div>\n",
       "<style scoped>\n",
       "    .dataframe tbody tr th:only-of-type {\n",
       "        vertical-align: middle;\n",
       "    }\n",
       "\n",
       "    .dataframe tbody tr th {\n",
       "        vertical-align: top;\n",
       "    }\n",
       "\n",
       "    .dataframe thead th {\n",
       "        text-align: right;\n",
       "    }\n",
       "</style>\n",
       "<table border=\"1\" class=\"dataframe\">\n",
       "  <thead>\n",
       "    <tr style=\"text-align: right;\">\n",
       "      <th></th>\n",
       "      <th>Unnamed: 0</th>\n",
       "      <th>Price</th>\n",
       "      <th>Age</th>\n",
       "      <th>KM</th>\n",
       "      <th>FuelType</th>\n",
       "      <th>HP</th>\n",
       "      <th>MetColor</th>\n",
       "      <th>Automatic</th>\n",
       "      <th>CC</th>\n",
       "      <th>Doors</th>\n",
       "      <th>Weight</th>\n",
       "    </tr>\n",
       "  </thead>\n",
       "  <tbody>\n",
       "    <tr>\n",
       "      <th>0</th>\n",
       "      <td>0</td>\n",
       "      <td>13500</td>\n",
       "      <td>23.0</td>\n",
       "      <td>46986</td>\n",
       "      <td>Diesel</td>\n",
       "      <td>90</td>\n",
       "      <td>1.0</td>\n",
       "      <td>0</td>\n",
       "      <td>2000</td>\n",
       "      <td>three</td>\n",
       "      <td>1165</td>\n",
       "    </tr>\n",
       "    <tr>\n",
       "      <th>1</th>\n",
       "      <td>1</td>\n",
       "      <td>13750</td>\n",
       "      <td>23.0</td>\n",
       "      <td>72937</td>\n",
       "      <td>Diesel</td>\n",
       "      <td>90</td>\n",
       "      <td>1.0</td>\n",
       "      <td>0</td>\n",
       "      <td>2000</td>\n",
       "      <td>3</td>\n",
       "      <td>1165</td>\n",
       "    </tr>\n",
       "    <tr>\n",
       "      <th>2</th>\n",
       "      <td>2</td>\n",
       "      <td>13950</td>\n",
       "      <td>24.0</td>\n",
       "      <td>41711</td>\n",
       "      <td>Diesel</td>\n",
       "      <td>90</td>\n",
       "      <td>NaN</td>\n",
       "      <td>0</td>\n",
       "      <td>2000</td>\n",
       "      <td>3</td>\n",
       "      <td>1165</td>\n",
       "    </tr>\n",
       "    <tr>\n",
       "      <th>3</th>\n",
       "      <td>3</td>\n",
       "      <td>14950</td>\n",
       "      <td>26.0</td>\n",
       "      <td>48000</td>\n",
       "      <td>Diesel</td>\n",
       "      <td>90</td>\n",
       "      <td>0.0</td>\n",
       "      <td>0</td>\n",
       "      <td>2000</td>\n",
       "      <td>3</td>\n",
       "      <td>1165</td>\n",
       "    </tr>\n",
       "    <tr>\n",
       "      <th>4</th>\n",
       "      <td>4</td>\n",
       "      <td>13750</td>\n",
       "      <td>30.0</td>\n",
       "      <td>38500</td>\n",
       "      <td>Diesel</td>\n",
       "      <td>90</td>\n",
       "      <td>0.0</td>\n",
       "      <td>0</td>\n",
       "      <td>2000</td>\n",
       "      <td>3</td>\n",
       "      <td>1170</td>\n",
       "    </tr>\n",
       "  </tbody>\n",
       "</table>\n",
       "</div>"
      ],
      "text/plain": [
       "   Unnamed: 0  Price   Age     KM FuelType  HP  MetColor  Automatic    CC  \\\n",
       "0           0  13500  23.0  46986   Diesel  90       1.0          0  2000   \n",
       "1           1  13750  23.0  72937   Diesel  90       1.0          0  2000   \n",
       "2           2  13950  24.0  41711   Diesel  90       NaN          0  2000   \n",
       "3           3  14950  26.0  48000   Diesel  90       0.0          0  2000   \n",
       "4           4  13750  30.0  38500   Diesel  90       0.0          0  2000   \n",
       "\n",
       "   Doors  Weight  \n",
       "0  three    1165  \n",
       "1      3    1165  \n",
       "2      3    1165  \n",
       "3      3    1165  \n",
       "4      3    1170  "
      ]
     },
     "execution_count": 4,
     "metadata": {},
     "output_type": "execute_result"
    }
   ],
   "source": [
    "toyotadf.head()"
   ]
  },
  {
   "cell_type": "code",
   "execution_count": 5,
   "id": "71d440a2-7dbf-47bf-b794-f03155260555",
   "metadata": {},
   "outputs": [
    {
     "data": {
      "text/html": [
       "<div>\n",
       "<style scoped>\n",
       "    .dataframe tbody tr th:only-of-type {\n",
       "        vertical-align: middle;\n",
       "    }\n",
       "\n",
       "    .dataframe tbody tr th {\n",
       "        vertical-align: top;\n",
       "    }\n",
       "\n",
       "    .dataframe thead th {\n",
       "        text-align: right;\n",
       "    }\n",
       "</style>\n",
       "<table border=\"1\" class=\"dataframe\">\n",
       "  <thead>\n",
       "    <tr style=\"text-align: right;\">\n",
       "      <th></th>\n",
       "      <th>Unnamed: 0</th>\n",
       "      <th>Price</th>\n",
       "      <th>Age</th>\n",
       "      <th>KM</th>\n",
       "      <th>FuelType</th>\n",
       "      <th>HP</th>\n",
       "      <th>MetColor</th>\n",
       "      <th>Automatic</th>\n",
       "      <th>CC</th>\n",
       "      <th>Doors</th>\n",
       "      <th>Weight</th>\n",
       "    </tr>\n",
       "  </thead>\n",
       "  <tbody>\n",
       "    <tr>\n",
       "      <th>1431</th>\n",
       "      <td>1431</td>\n",
       "      <td>7500</td>\n",
       "      <td>NaN</td>\n",
       "      <td>20544</td>\n",
       "      <td>Petrol</td>\n",
       "      <td>86</td>\n",
       "      <td>1.0</td>\n",
       "      <td>0</td>\n",
       "      <td>1300</td>\n",
       "      <td>3</td>\n",
       "      <td>1025</td>\n",
       "    </tr>\n",
       "    <tr>\n",
       "      <th>1432</th>\n",
       "      <td>1432</td>\n",
       "      <td>10845</td>\n",
       "      <td>72.0</td>\n",
       "      <td>??</td>\n",
       "      <td>Petrol</td>\n",
       "      <td>86</td>\n",
       "      <td>0.0</td>\n",
       "      <td>0</td>\n",
       "      <td>1300</td>\n",
       "      <td>3</td>\n",
       "      <td>1015</td>\n",
       "    </tr>\n",
       "    <tr>\n",
       "      <th>1433</th>\n",
       "      <td>1433</td>\n",
       "      <td>8500</td>\n",
       "      <td>NaN</td>\n",
       "      <td>17016</td>\n",
       "      <td>Petrol</td>\n",
       "      <td>86</td>\n",
       "      <td>0.0</td>\n",
       "      <td>0</td>\n",
       "      <td>1300</td>\n",
       "      <td>3</td>\n",
       "      <td>1015</td>\n",
       "    </tr>\n",
       "    <tr>\n",
       "      <th>1434</th>\n",
       "      <td>1434</td>\n",
       "      <td>7250</td>\n",
       "      <td>70.0</td>\n",
       "      <td>??</td>\n",
       "      <td>NaN</td>\n",
       "      <td>86</td>\n",
       "      <td>1.0</td>\n",
       "      <td>0</td>\n",
       "      <td>1300</td>\n",
       "      <td>3</td>\n",
       "      <td>1015</td>\n",
       "    </tr>\n",
       "    <tr>\n",
       "      <th>1435</th>\n",
       "      <td>1435</td>\n",
       "      <td>6950</td>\n",
       "      <td>76.0</td>\n",
       "      <td>1</td>\n",
       "      <td>Petrol</td>\n",
       "      <td>110</td>\n",
       "      <td>0.0</td>\n",
       "      <td>0</td>\n",
       "      <td>1600</td>\n",
       "      <td>5</td>\n",
       "      <td>1114</td>\n",
       "    </tr>\n",
       "  </tbody>\n",
       "</table>\n",
       "</div>"
      ],
      "text/plain": [
       "      Unnamed: 0  Price   Age     KM FuelType   HP  MetColor  Automatic    CC  \\\n",
       "1431        1431   7500   NaN  20544   Petrol   86       1.0          0  1300   \n",
       "1432        1432  10845  72.0     ??   Petrol   86       0.0          0  1300   \n",
       "1433        1433   8500   NaN  17016   Petrol   86       0.0          0  1300   \n",
       "1434        1434   7250  70.0     ??      NaN   86       1.0          0  1300   \n",
       "1435        1435   6950  76.0      1   Petrol  110       0.0          0  1600   \n",
       "\n",
       "     Doors  Weight  \n",
       "1431     3    1025  \n",
       "1432     3    1015  \n",
       "1433     3    1015  \n",
       "1434     3    1015  \n",
       "1435     5    1114  "
      ]
     },
     "execution_count": 5,
     "metadata": {},
     "output_type": "execute_result"
    }
   ],
   "source": [
    "toyotadf.tail()"
   ]
  },
  {
   "cell_type": "code",
   "execution_count": 7,
   "id": "c6ff6a12-67d0-4c2c-b1dd-3f2f8debdd1f",
   "metadata": {},
   "outputs": [
    {
     "name": "stdout",
     "output_type": "stream",
     "text": [
      "<class 'pandas.core.frame.DataFrame'>\n",
      "RangeIndex: 1436 entries, 0 to 1435\n",
      "Data columns (total 11 columns):\n",
      " #   Column      Non-Null Count  Dtype  \n",
      "---  ------      --------------  -----  \n",
      " 0   Unnamed: 0  1436 non-null   int64  \n",
      " 1   Price       1436 non-null   int64  \n",
      " 2   Age         1336 non-null   float64\n",
      " 3   KM          1436 non-null   object \n",
      " 4   FuelType    1336 non-null   object \n",
      " 5   HP          1436 non-null   object \n",
      " 6   MetColor    1286 non-null   float64\n",
      " 7   Automatic   1436 non-null   int64  \n",
      " 8   CC          1436 non-null   int64  \n",
      " 9   Doors       1436 non-null   object \n",
      " 10  Weight      1436 non-null   int64  \n",
      "dtypes: float64(2), int64(5), object(4)\n",
      "memory usage: 123.5+ KB\n"
     ]
    }
   ],
   "source": [
    "toyotadf.info()"
   ]
  },
  {
   "cell_type": "code",
   "execution_count": 9,
   "id": "ea6af086-96a9-4110-8271-fcf8a0fbb02a",
   "metadata": {},
   "outputs": [
    {
     "data": {
      "text/plain": [
       "array(['90', '????', '192', '110', '97', '71', '116', '98', '69', '86',\n",
       "       '72', '107', '73'], dtype=object)"
      ]
     },
     "execution_count": 9,
     "metadata": {},
     "output_type": "execute_result"
    }
   ],
   "source": [
    "toyotadf['HP'].unique()"
   ]
  },
  {
   "cell_type": "code",
   "execution_count": 11,
   "id": "6b390064-6b65-49fb-aedf-c4de6f9be4de",
   "metadata": {},
   "outputs": [
    {
     "data": {
      "text/plain": [
       "array(['46986', '72937', '41711', ..., '30964', '20544', '17016'],\n",
       "      dtype=object)"
      ]
     },
     "execution_count": 11,
     "metadata": {},
     "output_type": "execute_result"
    }
   ],
   "source": [
    "toyotadf['KM'].unique()"
   ]
  },
  {
   "cell_type": "code",
   "execution_count": 14,
   "id": "a13d38f9-87ff-430f-ab26-5660ad92dcb1",
   "metadata": {},
   "outputs": [],
   "source": [
    "toyotadf['MetColor']= toyotadf['MetColor'].astype(\"object\")\n",
    "toyotadf['Automatic']= toyotadf['Automatic'].astype(\"object\")"
   ]
  },
  {
   "cell_type": "code",
   "execution_count": 15,
   "id": "f00dbf9e-9c5f-46f2-a578-6e52c2e25488",
   "metadata": {},
   "outputs": [
    {
     "name": "stdout",
     "output_type": "stream",
     "text": [
      "<class 'pandas.core.frame.DataFrame'>\n",
      "RangeIndex: 1436 entries, 0 to 1435\n",
      "Data columns (total 11 columns):\n",
      " #   Column      Non-Null Count  Dtype  \n",
      "---  ------      --------------  -----  \n",
      " 0   Unnamed: 0  1436 non-null   int64  \n",
      " 1   Price       1436 non-null   int64  \n",
      " 2   Age         1336 non-null   float64\n",
      " 3   KM          1436 non-null   object \n",
      " 4   FuelType    1336 non-null   object \n",
      " 5   HP          1436 non-null   object \n",
      " 6   MetColor    1286 non-null   object \n",
      " 7   Automatic   1436 non-null   object \n",
      " 8   CC          1436 non-null   int64  \n",
      " 9   Doors       1436 non-null   object \n",
      " 10  Weight      1436 non-null   int64  \n",
      "dtypes: float64(1), int64(4), object(6)\n",
      "memory usage: 123.5+ KB\n"
     ]
    }
   ],
   "source": [
    "toyotadf.info()"
   ]
  },
  {
   "cell_type": "code",
   "execution_count": 16,
   "id": "bf3d061c-368e-4a1a-92a1-49f399b25124",
   "metadata": {},
   "outputs": [
    {
     "data": {
      "text/plain": [
       "array(['three', '3', '5', '4', 'four', 'five', '2'], dtype=object)"
      ]
     },
     "execution_count": 16,
     "metadata": {},
     "output_type": "execute_result"
    }
   ],
   "source": [
    "toyotadf[\"Doors\"].unique()"
   ]
  },
  {
   "cell_type": "code",
   "execution_count": 21,
   "id": "939740bd-b1d2-4f24-8281-8e46765dc2e1",
   "metadata": {},
   "outputs": [],
   "source": [
    "toyotadf.Doors.replace('five',5,inplace=True)\n",
    "toyotadf.Doors.replace('three',3,inplace=True)\n",
    "toyotadf.Doors.replace('four',4,inplace=True)\n",
    "toyotadf.Doors.replace('5',5,inplace=True)\n",
    "toyotadf.Doors.replace('4',3,inplace=True)\n",
    "toyotadf.Doors.replace('3',4,inplace=True)"
   ]
  },
  {
   "cell_type": "code",
   "execution_count": 22,
   "id": "2cfda5a4-23df-4ec4-8924-fc1736f08629",
   "metadata": {},
   "outputs": [
    {
     "data": {
      "text/plain": [
       "array([3, 4, 5, '2'], dtype=object)"
      ]
     },
     "execution_count": 22,
     "metadata": {},
     "output_type": "execute_result"
    }
   ],
   "source": [
    "toyotadf[\"Doors\"].unique()"
   ]
  },
  {
   "cell_type": "code",
   "execution_count": 23,
   "id": "41b40779-08b6-42f6-84d7-4f0d69b1bc2e",
   "metadata": {},
   "outputs": [],
   "source": [
    "toyotadf['Doors']= toyotadf['Doors'].astype(\"int64\")"
   ]
  },
  {
   "cell_type": "code",
   "execution_count": 24,
   "id": "2ede4929-41fe-4306-a827-c3cf9ead934a",
   "metadata": {},
   "outputs": [
    {
     "name": "stdout",
     "output_type": "stream",
     "text": [
      "<class 'pandas.core.frame.DataFrame'>\n",
      "RangeIndex: 1436 entries, 0 to 1435\n",
      "Data columns (total 11 columns):\n",
      " #   Column      Non-Null Count  Dtype  \n",
      "---  ------      --------------  -----  \n",
      " 0   Unnamed: 0  1436 non-null   int64  \n",
      " 1   Price       1436 non-null   int64  \n",
      " 2   Age         1336 non-null   float64\n",
      " 3   KM          1436 non-null   object \n",
      " 4   FuelType    1336 non-null   object \n",
      " 5   HP          1436 non-null   object \n",
      " 6   MetColor    1286 non-null   object \n",
      " 7   Automatic   1436 non-null   object \n",
      " 8   CC          1436 non-null   int64  \n",
      " 9   Doors       1436 non-null   int64  \n",
      " 10  Weight      1436 non-null   int64  \n",
      "dtypes: float64(1), int64(5), object(5)\n",
      "memory usage: 123.5+ KB\n"
     ]
    }
   ],
   "source": [
    "toyotadf.info()"
   ]
  },
  {
   "cell_type": "code",
   "execution_count": 25,
   "id": "f04070e0-c0be-47c2-b323-87f0d0a44347",
   "metadata": {},
   "outputs": [
    {
     "data": {
      "text/plain": [
       "Unnamed: 0      0\n",
       "Price           0\n",
       "Age           100\n",
       "KM              0\n",
       "FuelType      100\n",
       "HP              0\n",
       "MetColor      150\n",
       "Automatic       0\n",
       "CC              0\n",
       "Doors           0\n",
       "Weight          0\n",
       "dtype: int64"
      ]
     },
     "execution_count": 25,
     "metadata": {},
     "output_type": "execute_result"
    }
   ],
   "source": [
    "toyotadf.isnull( ).sum( )\n"
   ]
  },
  {
   "cell_type": "code",
   "execution_count": 26,
   "id": "2f5549ca-7275-4deb-a7d9-395c1596a278",
   "metadata": {},
   "outputs": [
    {
     "data": {
      "text/plain": [
       "Unnamed: 0      0\n",
       "Price           0\n",
       "Age           100\n",
       "KM              0\n",
       "FuelType      100\n",
       "HP              0\n",
       "MetColor      150\n",
       "Automatic       0\n",
       "CC              0\n",
       "Doors           0\n",
       "Weight          0\n",
       "dtype: int64"
      ]
     },
     "execution_count": 26,
     "metadata": {},
     "output_type": "execute_result"
    }
   ],
   "source": [
    "toyotadf.isna( ).sum( )"
   ]
  },
  {
   "cell_type": "code",
   "execution_count": 28,
   "id": "35f080e7-0f4b-4a54-b09e-a1d3989f3c20",
   "metadata": {},
   "outputs": [
    {
     "data": {
      "text/plain": [
       "0       Diesel\n",
       "1       Diesel\n",
       "2       Diesel\n",
       "3       Diesel\n",
       "4       Diesel\n",
       "         ...  \n",
       "1431    Petrol\n",
       "1432    Petrol\n",
       "1433    Petrol\n",
       "1434       NaN\n",
       "1435    Petrol\n",
       "Name: FuelType, Length: 1436, dtype: object"
      ]
     },
     "execution_count": 28,
     "metadata": {},
     "output_type": "execute_result"
    }
   ],
   "source": [
    "toyotadf[\"FuelType\"]"
   ]
  },
  {
   "cell_type": "code",
   "execution_count": 29,
   "id": "9475f9d6-c91f-4782-b18e-5bdc753cd7c0",
   "metadata": {},
   "outputs": [
    {
     "data": {
      "text/plain": [
       "array(['Diesel', nan, 'Petrol', 'CNG'], dtype=object)"
      ]
     },
     "execution_count": 29,
     "metadata": {},
     "output_type": "execute_result"
    }
   ],
   "source": [
    "toyotadf[\"FuelType\"].unique()"
   ]
  },
  {
   "cell_type": "code",
   "execution_count": 30,
   "id": "cde5a4f5-707e-406f-978e-46eae46d84a6",
   "metadata": {},
   "outputs": [
    {
     "data": {
      "text/html": [
       "<div>\n",
       "<style scoped>\n",
       "    .dataframe tbody tr th:only-of-type {\n",
       "        vertical-align: middle;\n",
       "    }\n",
       "\n",
       "    .dataframe tbody tr th {\n",
       "        vertical-align: top;\n",
       "    }\n",
       "\n",
       "    .dataframe thead th {\n",
       "        text-align: right;\n",
       "    }\n",
       "</style>\n",
       "<table border=\"1\" class=\"dataframe\">\n",
       "  <thead>\n",
       "    <tr style=\"text-align: right;\">\n",
       "      <th></th>\n",
       "      <th>Unnamed: 0</th>\n",
       "      <th>Price</th>\n",
       "      <th>Age</th>\n",
       "      <th>CC</th>\n",
       "      <th>Doors</th>\n",
       "      <th>Weight</th>\n",
       "    </tr>\n",
       "  </thead>\n",
       "  <tbody>\n",
       "    <tr>\n",
       "      <th>count</th>\n",
       "      <td>1436.000000</td>\n",
       "      <td>1436.000000</td>\n",
       "      <td>1336.000000</td>\n",
       "      <td>1436.000000</td>\n",
       "      <td>1436.000000</td>\n",
       "      <td>1436.00000</td>\n",
       "    </tr>\n",
       "    <tr>\n",
       "      <th>mean</th>\n",
       "      <td>717.500000</td>\n",
       "      <td>10730.824513</td>\n",
       "      <td>55.672156</td>\n",
       "      <td>1566.827994</td>\n",
       "      <td>4.370474</td>\n",
       "      <td>1072.45961</td>\n",
       "    </tr>\n",
       "    <tr>\n",
       "      <th>std</th>\n",
       "      <td>414.681806</td>\n",
       "      <td>3626.964585</td>\n",
       "      <td>18.589804</td>\n",
       "      <td>187.182436</td>\n",
       "      <td>0.658849</td>\n",
       "      <td>52.64112</td>\n",
       "    </tr>\n",
       "    <tr>\n",
       "      <th>min</th>\n",
       "      <td>0.000000</td>\n",
       "      <td>4350.000000</td>\n",
       "      <td>1.000000</td>\n",
       "      <td>1300.000000</td>\n",
       "      <td>2.000000</td>\n",
       "      <td>1000.00000</td>\n",
       "    </tr>\n",
       "    <tr>\n",
       "      <th>25%</th>\n",
       "      <td>358.750000</td>\n",
       "      <td>8450.000000</td>\n",
       "      <td>43.000000</td>\n",
       "      <td>1400.000000</td>\n",
       "      <td>4.000000</td>\n",
       "      <td>1040.00000</td>\n",
       "    </tr>\n",
       "    <tr>\n",
       "      <th>50%</th>\n",
       "      <td>717.500000</td>\n",
       "      <td>9900.000000</td>\n",
       "      <td>60.000000</td>\n",
       "      <td>1600.000000</td>\n",
       "      <td>4.000000</td>\n",
       "      <td>1070.00000</td>\n",
       "    </tr>\n",
       "    <tr>\n",
       "      <th>75%</th>\n",
       "      <td>1076.250000</td>\n",
       "      <td>11950.000000</td>\n",
       "      <td>70.000000</td>\n",
       "      <td>1600.000000</td>\n",
       "      <td>5.000000</td>\n",
       "      <td>1085.00000</td>\n",
       "    </tr>\n",
       "    <tr>\n",
       "      <th>max</th>\n",
       "      <td>1435.000000</td>\n",
       "      <td>32500.000000</td>\n",
       "      <td>80.000000</td>\n",
       "      <td>2000.000000</td>\n",
       "      <td>5.000000</td>\n",
       "      <td>1615.00000</td>\n",
       "    </tr>\n",
       "  </tbody>\n",
       "</table>\n",
       "</div>"
      ],
      "text/plain": [
       "        Unnamed: 0         Price          Age           CC        Doors  \\\n",
       "count  1436.000000   1436.000000  1336.000000  1436.000000  1436.000000   \n",
       "mean    717.500000  10730.824513    55.672156  1566.827994     4.370474   \n",
       "std     414.681806   3626.964585    18.589804   187.182436     0.658849   \n",
       "min       0.000000   4350.000000     1.000000  1300.000000     2.000000   \n",
       "25%     358.750000   8450.000000    43.000000  1400.000000     4.000000   \n",
       "50%     717.500000   9900.000000    60.000000  1600.000000     4.000000   \n",
       "75%    1076.250000  11950.000000    70.000000  1600.000000     5.000000   \n",
       "max    1435.000000  32500.000000    80.000000  2000.000000     5.000000   \n",
       "\n",
       "           Weight  \n",
       "count  1436.00000  \n",
       "mean   1072.45961  \n",
       "std      52.64112  \n",
       "min    1000.00000  \n",
       "25%    1040.00000  \n",
       "50%    1070.00000  \n",
       "75%    1085.00000  \n",
       "max    1615.00000  "
      ]
     },
     "execution_count": 30,
     "metadata": {},
     "output_type": "execute_result"
    }
   ],
   "source": [
    "toyotadf.describe()"
   ]
  },
  {
   "cell_type": "code",
   "execution_count": 32,
   "id": "da022c8c-d1b7-4524-bcee-ee190f72388e",
   "metadata": {},
   "outputs": [
    {
     "data": {
      "text/plain": [
       "1426    78.0\n",
       "1427     NaN\n",
       "1428    72.0\n",
       "1429    78.0\n",
       "1430    80.0\n",
       "1431     NaN\n",
       "1432    72.0\n",
       "1433     NaN\n",
       "1434    70.0\n",
       "1435    76.0\n",
       "Name: Age, dtype: float64"
      ]
     },
     "execution_count": 32,
     "metadata": {},
     "output_type": "execute_result"
    }
   ],
   "source": [
    "toyotadf[\"Age\"].tail(10)"
   ]
  },
  {
   "cell_type": "code",
   "execution_count": 33,
   "id": "93f52930-520f-40d5-a77b-cb52ee9c9a73",
   "metadata": {},
   "outputs": [],
   "source": [
    "toyotadf[\"Age\"].fillna(toyotadf[\"Age\"].mean(), inplace=True)"
   ]
  },
  {
   "cell_type": "code",
   "execution_count": 34,
   "id": "8fd83d60-0402-42d6-a310-fcd079183b18",
   "metadata": {},
   "outputs": [
    {
     "data": {
      "text/plain": [
       "1426    78.000000\n",
       "1427    55.672156\n",
       "1428    72.000000\n",
       "1429    78.000000\n",
       "1430    80.000000\n",
       "1431    55.672156\n",
       "1432    72.000000\n",
       "1433    55.672156\n",
       "1434    70.000000\n",
       "1435    76.000000\n",
       "Name: Age, dtype: float64"
      ]
     },
     "execution_count": 34,
     "metadata": {},
     "output_type": "execute_result"
    }
   ],
   "source": [
    "toyotadf[\"Age\"].tail(10)"
   ]
  },
  {
   "cell_type": "code",
   "execution_count": 35,
   "id": "c222104f-f2f3-4343-858c-ea13ef3d96d5",
   "metadata": {},
   "outputs": [
    {
     "data": {
      "text/plain": [
       "Age\n",
       "55.672156    100\n",
       "65.000000     62\n",
       "68.000000     60\n",
       "80.000000     52\n",
       "78.000000     41\n",
       "            ... \n",
       "15.000000      2\n",
       "18.000000      1\n",
       "6.000000       1\n",
       "10.000000      1\n",
       "2.000000       1\n",
       "Name: count, Length: 78, dtype: int64"
      ]
     },
     "execution_count": 35,
     "metadata": {},
     "output_type": "execute_result"
    }
   ],
   "source": [
    "toyotadf[\"Age\"].value_counts()"
   ]
  },
  {
   "cell_type": "code",
   "execution_count": null,
   "id": "bf778ac3-ab49-4593-ad8f-1ac75fff324a",
   "metadata": {},
   "outputs": [],
   "source": []
  }
 ],
 "metadata": {
  "kernelspec": {
   "display_name": "Python 3 (ipykernel)",
   "language": "python",
   "name": "python3"
  },
  "language_info": {
   "codemirror_mode": {
    "name": "ipython",
    "version": 3
   },
   "file_extension": ".py",
   "mimetype": "text/x-python",
   "name": "python",
   "nbconvert_exporter": "python",
   "pygments_lexer": "ipython3",
   "version": "3.10.9"
  }
 },
 "nbformat": 4,
 "nbformat_minor": 5
}
