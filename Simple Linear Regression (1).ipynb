{
 "cells": [
  {
   "cell_type": "code",
   "execution_count": null,
   "id": "aef1dcbd-abc0-4754-a325-f0f0aa9a4433",
   "metadata": {},
   "outputs": [],
   "source": [
    "#Exp-3: Predicting output values using Simple Linear Regression"
   ]
  },
  {
   "cell_type": "code",
   "execution_count": 4,
   "id": "b3a6ec67-886d-42a0-b9f0-4988f9fd0933",
   "metadata": {},
   "outputs": [
    {
     "name": "stdout",
     "output_type": "stream",
     "text": [
      "Requirement already satisfied: pip in c:\\users\\ratha\\appdata\\local\\programs\\python\\python310\\lib\\site-packages (23.3.1)\n",
      "Collecting pip\n",
      "  Downloading pip-23.3.2-py3-none-any.whl.metadata (3.5 kB)\n",
      "Downloading pip-23.3.2-py3-none-any.whl (2.1 MB)\n",
      "   ---------------------------------------- 0.0/2.1 MB ? eta -:--:--\n",
      "   ------ --------------------------------- 0.3/2.1 MB 7.2 MB/s eta 0:00:01\n",
      "   ------------- -------------------------- 0.7/2.1 MB 7.7 MB/s eta 0:00:01\n",
      "   -------------------- ------------------- 1.1/2.1 MB 8.5 MB/s eta 0:00:01\n",
      "   -------------------------- ------------- 1.4/2.1 MB 8.2 MB/s eta 0:00:01\n",
      "   -------------------------------- ------- 1.7/2.1 MB 8.5 MB/s eta 0:00:01\n",
      "   ---------------------------------------  2.1/2.1 MB 8.3 MB/s eta 0:00:01\n",
      "   ---------------------------------------- 2.1/2.1 MB 7.1 MB/s eta 0:00:00\n",
      "Installing collected packages: pip\n",
      "  Attempting uninstall: pip\n",
      "    Found existing installation: pip 23.3.1\n",
      "    Uninstalling pip-23.3.1:\n",
      "      Successfully uninstalled pip-23.3.1\n",
      "Successfully installed pip-23.3.2\n",
      "Note: you may need to restart the kernel to use updated packages.\n"
     ]
    }
   ],
   "source": [
    "pip install --upgrade pip"
   ]
  },
  {
   "cell_type": "code",
   "execution_count": 6,
   "id": "cd4e42b5-9aad-4ad5-b39a-82e8cdf58940",
   "metadata": {},
   "outputs": [
    {
     "name": "stdout",
     "output_type": "stream",
     "text": [
      "Collecting scikit-learn\n",
      "  Downloading scikit_learn-1.3.2-cp310-cp310-win_amd64.whl.metadata (11 kB)\n",
      "Requirement already satisfied: numpy<2.0,>=1.17.3 in c:\\users\\ratha\\appdata\\local\\programs\\python\\python310\\lib\\site-packages (from scikit-learn) (1.26.2)\n",
      "Requirement already satisfied: scipy>=1.5.0 in c:\\users\\ratha\\appdata\\local\\programs\\python\\python310\\lib\\site-packages (from scikit-learn) (1.11.4)\n",
      "Collecting joblib>=1.1.1 (from scikit-learn)\n",
      "  Downloading joblib-1.3.2-py3-none-any.whl.metadata (5.4 kB)\n",
      "Collecting threadpoolctl>=2.0.0 (from scikit-learn)\n",
      "  Downloading threadpoolctl-3.2.0-py3-none-any.whl.metadata (10.0 kB)\n",
      "Downloading scikit_learn-1.3.2-cp310-cp310-win_amd64.whl (9.3 MB)\n",
      "   ---------------------------------------- 0.0/9.3 MB ? eta -:--:--\n",
      "   -- ------------------------------------- 0.5/9.3 MB 15.2 MB/s eta 0:00:01\n",
      "   --- ------------------------------------ 0.8/9.3 MB 8.6 MB/s eta 0:00:01\n",
      "   ---- ----------------------------------- 1.1/9.3 MB 7.9 MB/s eta 0:00:02\n",
      "   ------ --------------------------------- 1.5/9.3 MB 7.8 MB/s eta 0:00:01\n",
      "   ------- -------------------------------- 1.8/9.3 MB 8.2 MB/s eta 0:00:01\n",
      "   --------- ------------------------------ 2.2/9.3 MB 7.7 MB/s eta 0:00:01\n",
      "   ---------- ----------------------------- 2.5/9.3 MB 8.0 MB/s eta 0:00:01\n",
      "   ------------ --------------------------- 2.9/9.3 MB 7.9 MB/s eta 0:00:01\n",
      "   ------------- -------------------------- 3.2/9.3 MB 7.8 MB/s eta 0:00:01\n",
      "   --------------- ------------------------ 3.6/9.3 MB 7.4 MB/s eta 0:00:01\n",
      "   ---------------- ----------------------- 3.9/9.3 MB 7.6 MB/s eta 0:00:01\n",
      "   ------------------ --------------------- 4.2/9.3 MB 7.8 MB/s eta 0:00:01\n",
      "   ------------------- -------------------- 4.6/9.3 MB 7.5 MB/s eta 0:00:01\n",
      "   --------------------- ------------------ 4.9/9.3 MB 7.5 MB/s eta 0:00:01\n",
      "   ---------------------- ----------------- 5.3/9.3 MB 7.5 MB/s eta 0:00:01\n",
      "   ------------------------ --------------- 5.6/9.3 MB 7.5 MB/s eta 0:00:01\n",
      "   ------------------------- -------------- 6.0/9.3 MB 7.4 MB/s eta 0:00:01\n",
      "   --------------------------- ------------ 6.3/9.3 MB 7.5 MB/s eta 0:00:01\n",
      "   ---------------------------- ----------- 6.7/9.3 MB 7.5 MB/s eta 0:00:01\n",
      "   ------------------------------ --------- 7.1/9.3 MB 7.5 MB/s eta 0:00:01\n",
      "   ------------------------------- -------- 7.4/9.3 MB 7.5 MB/s eta 0:00:01\n",
      "   --------------------------------- ------ 7.8/9.3 MB 7.5 MB/s eta 0:00:01\n",
      "   ----------------------------------- ---- 8.1/9.3 MB 7.5 MB/s eta 0:00:01\n",
      "   ------------------------------------ --- 8.5/9.3 MB 7.5 MB/s eta 0:00:01\n",
      "   -------------------------------------- - 8.8/9.3 MB 7.4 MB/s eta 0:00:01\n",
      "   ---------------------------------------  9.1/9.3 MB 7.5 MB/s eta 0:00:01\n",
      "   ---------------------------------------- 9.3/9.3 MB 7.3 MB/s eta 0:00:00\n",
      "Downloading joblib-1.3.2-py3-none-any.whl (302 kB)\n",
      "   ---------------------------------------- 0.0/302.2 kB ? eta -:--:--\n",
      "   ---------------------------------------- 302.2/302.2 kB 9.1 MB/s eta 0:00:00\n",
      "Downloading threadpoolctl-3.2.0-py3-none-any.whl (15 kB)\n",
      "Installing collected packages: threadpoolctl, joblib, scikit-learn\n",
      "Successfully installed joblib-1.3.2 scikit-learn-1.3.2 threadpoolctl-3.2.0\n",
      "Note: you may need to restart the kernel to use updated packages.\n"
     ]
    }
   ],
   "source": [
    "pip install scikit-learn"
   ]
  },
  {
   "cell_type": "code",
   "execution_count": 7,
   "id": "38ecedfe-10c1-4a30-9a87-ca22c9de06d8",
   "metadata": {},
   "outputs": [],
   "source": [
    "#step 1:import libraries\n",
    "import numpy as np\n",
    "import pandas as pd\n",
    "import matplotlib.pyplot as plt\n",
    "from sklearn.linear_model import LinearRegression"
   ]
  },
  {
   "cell_type": "code",
   "execution_count": 8,
   "id": "62d8e076-8a9e-4545-b3a4-40f9a5bf866b",
   "metadata": {},
   "outputs": [
    {
     "name": "stdout",
     "output_type": "stream",
     "text": [
      "[ 6 10  2  4  6  7  0  1  8  5  3]\n",
      "[82 88 56 64 77 92 23 41 80 59 47]\n"
     ]
    }
   ],
   "source": [
    "#Step 2: create a dataset with input and output variables\n",
    "x=np.array([6,10,2,4,6,7,0,1,8,5,3])\n",
    "y=np.array([82,88,56,64,77,92,23,41,80,59,47])\n",
    "print(x)\n",
    "print(y)"
   ]
  },
  {
   "cell_type": "code",
   "execution_count": 9,
   "id": "e27795c4-934c-4774-99c2-98880b160b2a",
   "metadata": {},
   "outputs": [
    {
     "name": "stdout",
     "output_type": "stream",
     "text": [
      "[[ 6]\n",
      " [10]\n",
      " [ 2]\n",
      " [ 4]\n",
      " [ 6]\n",
      " [ 7]\n",
      " [ 0]\n",
      " [ 1]\n",
      " [ 8]\n",
      " [ 5]\n",
      " [ 3]]\n",
      "[[82]\n",
      " [88]\n",
      " [56]\n",
      " [64]\n",
      " [77]\n",
      " [92]\n",
      " [23]\n",
      " [41]\n",
      " [80]\n",
      " [59]\n",
      " [47]]\n"
     ]
    }
   ],
   "source": [
    "#Reshaping data to have only one column\n",
    "x=np.array([6,10,2,4,6,7,0,1,8,5,3]).reshape(-1,1)\n",
    "y=np.array([82,88,56,64,77,92,23,41,80,59,47]).reshape(-1,1)\n",
    "print(x)\n",
    "print(y)"
   ]
  },
  {
   "cell_type": "code",
   "execution_count": 12,
   "id": "6a1ce7ea-d393-4f5e-b571-2cf46bbeee40",
   "metadata": {},
   "outputs": [
    {
     "data": {
      "text/plain": [
       "(11, 1)"
      ]
     },
     "execution_count": 12,
     "metadata": {},
     "output_type": "execute_result"
    }
   ],
   "source": [
    "x.shape"
   ]
  },
  {
   "cell_type": "code",
   "execution_count": 11,
   "id": "71f652b8-b067-492f-94c4-f5b58d880796",
   "metadata": {},
   "outputs": [
    {
     "data": {
      "text/plain": [
       "(11, 1)"
      ]
     },
     "execution_count": 11,
     "metadata": {},
     "output_type": "execute_result"
    }
   ],
   "source": [
    "y.shape"
   ]
  },
  {
   "cell_type": "code",
   "execution_count": 13,
   "id": "6bd20d1f-736b-4eb8-9709-0014a6109589",
   "metadata": {},
   "outputs": [
    {
     "data": {
      "text/plain": [
       "Text(0, 0.5, 'Grades')"
      ]
     },
     "execution_count": 13,
     "metadata": {},
     "output_type": "execute_result"
    },
    {
     "data": {
      "image/png": "[encoded data removed]",
      "text/plain": [
       "<Figure size 640x480 with 1 Axes>"
      ]
     },
     "metadata": {},
     "output_type": "display_data"
    }
   ],
   "source": [
    "#Data Visualisation\n",
    "plt.scatter(x,y)\n",
    "plt.xlabel(\"Hours spent on study\")\n",
    "plt.ylabel(\"Grades\")"
   ]
  },
  {
   "cell_type": "code",
   "execution_count": 14,
   "id": "4f7de1b4-5bd1-4420-b384-ca312e505dce",
   "metadata": {},
   "outputs": [],
   "source": [
    "#Step 4:Buiding the model\n",
    "model=LinearRegression().fit(x,y)\n",
    "r_sq=model.score(x,y)"
   ]
  },
  {
   "cell_type": "code",
   "execution_count": 15,
   "id": "54ea6d15-e356-4765-b402-b2dc946cce5c",
   "metadata": {},
   "outputs": [
    {
     "name": "stdout",
     "output_type": "stream",
     "text": [
      "COefficient of determination: 0.8453212150057741\n",
      "Intercept: [33.76833977]\n",
      "Slope [[6.49131274]]\n"
     ]
    }
   ],
   "source": [
    "#Step 5: Evaluating the model\n",
    "print(\"COefficient of determination:\",r_sq)\n",
    "print(\"Intercept:\",model.intercept_)\n",
    "print('Slope',model.coef_)"
   ]
  },
  {
   "cell_type": "code",
   "execution_count": 16,
   "id": "a07871f2-7116-46c2-a5d8-4128089e66c7",
   "metadata": {},
   "outputs": [
    {
     "data": {
      "text/plain": [
       "array([[72.71621622],\n",
       "       [98.68146718],\n",
       "       [46.75096525],\n",
       "       [59.73359073],\n",
       "       [72.71621622],\n",
       "       [79.20752896],\n",
       "       [33.76833977],\n",
       "       [40.25965251],\n",
       "       [85.6988417 ],\n",
       "       [66.22490347],\n",
       "       [53.24227799]])"
      ]
     },
     "execution_count": 16,
     "metadata": {},
     "output_type": "execute_result"
    }
   ],
   "source": [
    "#Step 6: Predicting the result\n",
    "y_pred=model.predict(x)\n",
    "y_pred"
   ]
  },
  {
   "cell_type": "code",
   "execution_count": 17,
   "id": "631fbcd8-9e91-42b6-b687-2c4a745202ef",
   "metadata": {},
   "outputs": [
    {
     "data": {
      "image/png": "[encoded data removed]",
      "text/plain": [
       "<Figure size 640x480 with 1 Axes>"
      ]
     },
     "metadata": {},
     "output_type": "display_data"
    }
   ],
   "source": [
    "#Prediction Plot\n",
    "plt.scatter(x,y)\n",
    "plt.plot(x,y_pred)\n",
    "plt.xlabel(\"Hours spent on study\")\n",
    "plt.ylabel(\"Grades\")\n",
    "plt.show()"
   ]
  },
  {
   "cell_type": "code",
   "execution_count": null,
   "id": "39d3403c-dc00-4bad-bf79-3465211eec34",
   "metadata": {},
   "outputs": [],
   "source": []
  }
 ],
 "metadata": {
  "kernelspec": {
   "display_name": "Python 3 (ipykernel)",
   "language": "python",
   "name": "python3"
  },
  "language_info": {
   "codemirror_mode": {
    "name": "ipython",
    "version": 3
   },
   "file_extension": ".py",
   "mimetype": "text/x-python",
   "name": "python",
   "nbconvert_exporter": "python",
   "pygments_lexer": "ipython3",
   "version": "3.10.9"
  }
 },
 "nbformat": 4,
 "nbformat_minor": 5
}
